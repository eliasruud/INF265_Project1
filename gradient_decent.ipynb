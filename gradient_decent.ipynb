{
 "cells": [
  {
   "cell_type": "code",
   "execution_count": 39,
   "metadata": {},
   "outputs": [],
   "source": [
    "import torch\n",
    "import torchvision\n",
    "from torch import nn\n",
    "from torchvision.transforms import ToTensor\n",
    "from torch.utils.data.dataset import random_split\n",
    "\n",
    "torch.manual_seed(123)                  # Sets the randomness\n",
    "torch.set_default_dtype(torch.double)   # Sets the default datatype for tensors"
   ]
  },
  {
   "cell_type": "code",
   "execution_count": 40,
   "metadata": {},
   "outputs": [
    {
     "name": "stdout",
     "output_type": "stream",
     "text": [
      "Downloading https://www.cs.toronto.edu/~kriz/cifar-10-python.tar.gz to ./data\\cifar-10-python.tar.gz\n"
     ]
    },
    {
     "name": "stderr",
     "output_type": "stream",
     "text": [
      "100%|██████████| 170498071/170498071 [00:15<00:00, 11356060.06it/s]\n"
     ]
    },
    {
     "name": "stdout",
     "output_type": "stream",
     "text": [
      "Extracting ./data\\cifar-10-python.tar.gz to ./data\n",
      "Files already downloaded and verified\n"
     ]
    }
   ],
   "source": [
    "# Loads the cifar10 training and test sets. It downloads it into the data folder and is transformed into a tenser using the transfrom.toTensor.\n",
    "training_set = torchvision.datasets.CIFAR10(root='./data', train=True, download=True, transform=ToTensor())\n",
    "test_set = torchvision.datasets.CIFAR10(root='./data', train=False, download=True, transform=ToTensor())"
   ]
  },
  {
   "cell_type": "code",
   "execution_count": 41,
   "metadata": {},
   "outputs": [],
   "source": [
    "# Filters out the nonrelevant labels. Keeps the airplane and birds\n",
    "training_set = [item for item in training_set if item[1] == 0 or item[1] == 2]\n",
    "test_set = [item for item in test_set if item[1] == 0 or item[1] == 2]"
   ]
  },
  {
   "cell_type": "code",
   "execution_count": 42,
   "metadata": {},
   "outputs": [],
   "source": [
    "# Splits training set into training and validation set\n",
    "training_size = int(len(training_set)*0.9)\n",
    "validation_size = len(training_set) - training_size\n",
    "\n",
    "training_set, validation_set = random_split(training_set, [training_size, validation_size])"
   ]
  },
  {
   "cell_type": "code",
   "execution_count": 43,
   "metadata": {},
   "outputs": [],
   "source": [
    "# MLP class for 3.1.2\n",
    "\n",
    "# CRITERIA:\n",
    "#   * The input dimension is 3072 (= 32*32*3) and the output dimension is 2 (for the 2 classes).\n",
    "#   * The hidden layers have respectively 512, 128 and 32 hidden units.\n",
    "#   * All activation functions are ReLU. The last layer has no activation function since the cross-entropy loss already includes a softmax activation function.\n",
    "\n",
    "# Layout: [3072, 512, 128, 32, 2]\n",
    "\n",
    "class MyMLP(nn.Module):\n",
    "    def __init__():\n",
    "        super().__init__() # Initializes nn.module\n",
    "\n",
    "        pass\n",
    "\n",
    "    def forward():\n",
    "        pass\n",
    "\n",
    "\n",
    "\n"
   ]
  },
  {
   "cell_type": "code",
   "execution_count": null,
   "metadata": {},
   "outputs": [],
   "source": []
  }
 ],
 "metadata": {
  "kernelspec": {
   "display_name": "JUPYTER",
   "language": "python",
   "name": "python3"
  },
  "language_info": {
   "codemirror_mode": {
    "name": "ipython",
    "version": 3
   },
   "file_extension": ".py",
   "mimetype": "text/x-python",
   "name": "python",
   "nbconvert_exporter": "python",
   "pygments_lexer": "ipython3",
   "version": "3.11.5"
  }
 },
 "nbformat": 4,
 "nbformat_minor": 2
}
