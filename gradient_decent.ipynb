{
 "cells": [
  {
   "cell_type": "code",
   "execution_count": 49,
   "metadata": {},
   "outputs": [],
   "source": [
    "import torch\n",
    "import torchvision\n",
    "from torch import nn\n",
    "import torch.optim as optim\n",
    "from torch.utils.data import Subset, DataLoader\n",
    "import torchvision.transforms as transforms\n",
    "from torch.utils.data.dataset import random_split\n",
    "\n",
    "torch.manual_seed(265)                  # Sets the randomness\n",
    "torch.set_default_dtype(torch.double)   # Sets the default datatype for tensors"
   ]
  },
  {
   "cell_type": "code",
   "execution_count": 27,
   "metadata": {},
   "outputs": [
    {
     "name": "stdout",
     "output_type": "stream",
     "text": [
      "Files already downloaded and verified\n",
      "Files already downloaded and verified\n"
     ]
    }
   ],
   "source": [
    "transform = transforms.Compose([\n",
    "    transforms.ToTensor(),                          #converts to tensor\n",
    "    transforms.Lambda(lambda x: torch.flatten(x))   #Flattens the tensor\n",
    "])\n",
    "\n",
    "# Loads the cifar10 training and test sets. It downloads it into the data folder and is transformed into a tenser using the transfrom.toTensor.\n",
    "full_training_set = torchvision.datasets.CIFAR10(root='./data', train=True, download=True, transform=transform)\n",
    "full_test_set = torchvision.datasets.CIFAR10(root='./data', train=False, download=True, transform=transform)"
   ]
  },
  {
   "cell_type": "code",
   "execution_count": 53,
   "metadata": {},
   "outputs": [],
   "source": [
    "# Filters out the nonrelevant labels. Keeps the airplane and birds\n",
    "training_set = Subset(full_training_set, [i for i, (_, label) in enumerate(full_training_set) if label in [0,2]])\n",
    "test_set = Subset(full_test_set, [i for i, (_, label) in enumerate(full_test_set) if label in [0,2]])"
   ]
  },
  {
   "cell_type": "code",
   "execution_count": 60,
   "metadata": {},
   "outputs": [],
   "source": [
    "# Splits training set into training and validation set\n",
    "training_size = int(len(training_set)*0.9)\n",
    "validation_size = len(training_set) - training_size\n",
    "\n",
    "training_set, validation_set = random_split(training_set, [training_size, validation_size])"
   ]
  },
  {
   "cell_type": "code",
   "execution_count": 30,
   "metadata": {},
   "outputs": [],
   "source": [
    "# MLP class for 3.1.2\n",
    "\n",
    "# CRITERIA:\n",
    "#   * The input dimension is 3072 (= 32*32*3) and the output dimension is 2 (for the 2 classes).\n",
    "#   * The hidden layers have respectively 512, 128 and 32 hidden units.\n",
    "#   * All activation functions are ReLU. The last layer has no activation function since the cross-entropy loss already includes a softmax activation function.\n",
    "\n",
    "# Layout: [3072, 512, 128, 32, 2]\n",
    "\n",
    "class MyMLP(nn.Module):\n",
    "\n",
    "    def __init__(self):\n",
    "        super().__init__() # Initializes the nn.module\n",
    "\n",
    "        # Defines the network using seqential.\n",
    "        self.model = nn.Sequential(\n",
    "            nn.Linear(in_features=3072, out_features=512),\n",
    "            nn.ReLU(),\n",
    "            nn.Linear(in_features=512, out_features=128),\n",
    "            nn.ReLU(),\n",
    "            nn.Linear(in_features=128, out_features=32),\n",
    "            nn.ReLU(),\n",
    "            nn.Linear(in_features=32, out_features=2)\n",
    "        )\n",
    "\n",
    "    def forward(self, input): #Passes the input trough the network and returns the output\n",
    "        return self.model(input)"
   ]
  },
  {
   "cell_type": "code",
   "execution_count": 62,
   "metadata": {},
   "outputs": [],
   "source": [
    "device = torch.device(\"cuda\" if torch.cuda.is_available() else \"cpu\") #Sets the device"
   ]
  },
  {
   "cell_type": "code",
   "execution_count": 68,
   "metadata": {},
   "outputs": [],
   "source": [
    "\n",
    "def train(n_epochs, optimizer, model, loss_fn, train_loader):\n",
    "\n",
    "    model.to(device)\n",
    "    model.train()\n",
    "\n",
    "    for i in range(n_epochs):\n",
    "        total_loss = 0.0\n",
    "        batch_amount = len(train_loader)\n",
    "\n",
    "        for x, y_true  in train_loader:\n",
    "            x, y_true = x.to(device, dtype=torch.double), y_true.to(device)\n",
    "\n",
    "            optimizer.zero_grad()           # Resets the gradients\n",
    "\n",
    "            y_pred = model(x)               # Forward passes the batch\n",
    "\n",
    "            loss = loss_fn(y_pred, y_true)  # calcs the loss\n",
    "            total_loss += loss.item()       # Adds the loss to the total\n",
    "\n",
    "            loss.backward()                 # Backward propogation\n",
    "            optimizer.step()                # Updates the weights and biases\n",
    "\n",
    "        print(\"Train ||| Epoch: \",(i+1), \" of \", n_epochs, \"| Average Loss: \", total_loss / batch_amount)\n"
   ]
  },
  {
   "cell_type": "code",
   "execution_count": 66,
   "metadata": {},
   "outputs": [],
   "source": [
    "def train_manual_update(n_epochs, lr, model, loss_fn, train_loader, weight_decay, momentum):\n",
    "\n",
    "    model.to(device)\n",
    "    model.train()\n",
    "\n",
    "    for i in range(n_epochs):\n",
    "        total_loss = 0.0\n",
    "        batch_amount = len(train_loader)\n",
    "\n",
    "        for x, y_true  in train_loader:\n",
    "            x, y_true = x.to(device, dtype=torch.double), y_true.to(device)\n",
    "            \n",
    "            model.zero_grad()           # Resets the gradients\n",
    "\n",
    "            y_pred = model(x)               # Forward passes the batch\n",
    "\n",
    "            loss = loss_fn(y_pred, y_true)  # calcs the loss\n",
    "            total_loss += loss.item()       # Adds the loss to the total\n",
    "\n",
    "            loss.backward()                 # Backward propogation\n",
    "            \n",
    "            with torch.no_grad():           #Manually uses gradient decent to update each oarameter\n",
    "                for p in model.parameters():\n",
    "                    p = p - lr*p.grad       # Equation (2) in project pdf.\n",
    "\n",
    "        print(\"Train_manual_update ||| Epoch: \",(i+1), \" of \", n_epochs, \"| Average Loss: \", total_loss / batch_amount)"
   ]
  },
  {
   "cell_type": "code",
   "execution_count": 69,
   "metadata": {},
   "outputs": [
    {
     "ename": "IndexError",
     "evalue": "Target 2 is out of bounds.",
     "output_type": "error",
     "traceback": [
      "\u001b[1;31m---------------------------------------------------------------------------\u001b[0m",
      "\u001b[1;31mIndexError\u001b[0m                                Traceback (most recent call last)",
      "Cell \u001b[1;32mIn[69], line 12\u001b[0m\n\u001b[0;32m      9\u001b[0m loss_fn \u001b[38;5;241m=\u001b[39m nn\u001b[38;5;241m.\u001b[39mCrossEntropyLoss()\n\u001b[0;32m     10\u001b[0m train_loader \u001b[38;5;241m=\u001b[39m DataLoader(training_set, \u001b[38;5;241m32\u001b[39m)\n\u001b[1;32m---> 12\u001b[0m train(n_epochs, optimizer, model, loss_fn, train_loader)\n\u001b[0;32m     13\u001b[0m train_manual_update(n_epochs, lr, model, loss_fn, train_loader)\n",
      "Cell \u001b[1;32mIn[68], line 17\u001b[0m, in \u001b[0;36mtrain\u001b[1;34m(n_epochs, optimizer, model, loss_fn, train_loader)\u001b[0m\n\u001b[0;32m     13\u001b[0m optimizer\u001b[38;5;241m.\u001b[39mzero_grad()           \u001b[38;5;66;03m# Resets the gradients\u001b[39;00m\n\u001b[0;32m     15\u001b[0m y_pred \u001b[38;5;241m=\u001b[39m model(x)               \u001b[38;5;66;03m# Forward passes the batch\u001b[39;00m\n\u001b[1;32m---> 17\u001b[0m loss \u001b[38;5;241m=\u001b[39m loss_fn(y_pred, y_true)  \u001b[38;5;66;03m# calcs the loss\u001b[39;00m\n\u001b[0;32m     18\u001b[0m total_loss \u001b[38;5;241m+\u001b[39m\u001b[38;5;241m=\u001b[39m loss\u001b[38;5;241m.\u001b[39mitem()       \u001b[38;5;66;03m# Adds the loss to the total\u001b[39;00m\n\u001b[0;32m     20\u001b[0m loss\u001b[38;5;241m.\u001b[39mbackward()                 \u001b[38;5;66;03m# Backward propogation\u001b[39;00m\n",
      "File \u001b[1;32mc:\\Users\\RR\\miniconda3\\envs\\JUPYTER\\Lib\\site-packages\\torch\\nn\\modules\\module.py:1518\u001b[0m, in \u001b[0;36mModule._wrapped_call_impl\u001b[1;34m(self, *args, **kwargs)\u001b[0m\n\u001b[0;32m   1516\u001b[0m     \u001b[38;5;28;01mreturn\u001b[39;00m \u001b[38;5;28mself\u001b[39m\u001b[38;5;241m.\u001b[39m_compiled_call_impl(\u001b[38;5;241m*\u001b[39margs, \u001b[38;5;241m*\u001b[39m\u001b[38;5;241m*\u001b[39mkwargs)  \u001b[38;5;66;03m# type: ignore[misc]\u001b[39;00m\n\u001b[0;32m   1517\u001b[0m \u001b[38;5;28;01melse\u001b[39;00m:\n\u001b[1;32m-> 1518\u001b[0m     \u001b[38;5;28;01mreturn\u001b[39;00m \u001b[38;5;28mself\u001b[39m\u001b[38;5;241m.\u001b[39m_call_impl(\u001b[38;5;241m*\u001b[39margs, \u001b[38;5;241m*\u001b[39m\u001b[38;5;241m*\u001b[39mkwargs)\n",
      "File \u001b[1;32mc:\\Users\\RR\\miniconda3\\envs\\JUPYTER\\Lib\\site-packages\\torch\\nn\\modules\\module.py:1527\u001b[0m, in \u001b[0;36mModule._call_impl\u001b[1;34m(self, *args, **kwargs)\u001b[0m\n\u001b[0;32m   1522\u001b[0m \u001b[38;5;66;03m# If we don't have any hooks, we want to skip the rest of the logic in\u001b[39;00m\n\u001b[0;32m   1523\u001b[0m \u001b[38;5;66;03m# this function, and just call forward.\u001b[39;00m\n\u001b[0;32m   1524\u001b[0m \u001b[38;5;28;01mif\u001b[39;00m \u001b[38;5;129;01mnot\u001b[39;00m (\u001b[38;5;28mself\u001b[39m\u001b[38;5;241m.\u001b[39m_backward_hooks \u001b[38;5;129;01mor\u001b[39;00m \u001b[38;5;28mself\u001b[39m\u001b[38;5;241m.\u001b[39m_backward_pre_hooks \u001b[38;5;129;01mor\u001b[39;00m \u001b[38;5;28mself\u001b[39m\u001b[38;5;241m.\u001b[39m_forward_hooks \u001b[38;5;129;01mor\u001b[39;00m \u001b[38;5;28mself\u001b[39m\u001b[38;5;241m.\u001b[39m_forward_pre_hooks\n\u001b[0;32m   1525\u001b[0m         \u001b[38;5;129;01mor\u001b[39;00m _global_backward_pre_hooks \u001b[38;5;129;01mor\u001b[39;00m _global_backward_hooks\n\u001b[0;32m   1526\u001b[0m         \u001b[38;5;129;01mor\u001b[39;00m _global_forward_hooks \u001b[38;5;129;01mor\u001b[39;00m _global_forward_pre_hooks):\n\u001b[1;32m-> 1527\u001b[0m     \u001b[38;5;28;01mreturn\u001b[39;00m forward_call(\u001b[38;5;241m*\u001b[39margs, \u001b[38;5;241m*\u001b[39m\u001b[38;5;241m*\u001b[39mkwargs)\n\u001b[0;32m   1529\u001b[0m \u001b[38;5;28;01mtry\u001b[39;00m:\n\u001b[0;32m   1530\u001b[0m     result \u001b[38;5;241m=\u001b[39m \u001b[38;5;28;01mNone\u001b[39;00m\n",
      "File \u001b[1;32mc:\\Users\\RR\\miniconda3\\envs\\JUPYTER\\Lib\\site-packages\\torch\\nn\\modules\\loss.py:1179\u001b[0m, in \u001b[0;36mCrossEntropyLoss.forward\u001b[1;34m(self, input, target)\u001b[0m\n\u001b[0;32m   1178\u001b[0m \u001b[38;5;28;01mdef\u001b[39;00m \u001b[38;5;21mforward\u001b[39m(\u001b[38;5;28mself\u001b[39m, \u001b[38;5;28minput\u001b[39m: Tensor, target: Tensor) \u001b[38;5;241m-\u001b[39m\u001b[38;5;241m>\u001b[39m Tensor:\n\u001b[1;32m-> 1179\u001b[0m     \u001b[38;5;28;01mreturn\u001b[39;00m F\u001b[38;5;241m.\u001b[39mcross_entropy(\u001b[38;5;28minput\u001b[39m, target, weight\u001b[38;5;241m=\u001b[39m\u001b[38;5;28mself\u001b[39m\u001b[38;5;241m.\u001b[39mweight,\n\u001b[0;32m   1180\u001b[0m                            ignore_index\u001b[38;5;241m=\u001b[39m\u001b[38;5;28mself\u001b[39m\u001b[38;5;241m.\u001b[39mignore_index, reduction\u001b[38;5;241m=\u001b[39m\u001b[38;5;28mself\u001b[39m\u001b[38;5;241m.\u001b[39mreduction,\n\u001b[0;32m   1181\u001b[0m                            label_smoothing\u001b[38;5;241m=\u001b[39m\u001b[38;5;28mself\u001b[39m\u001b[38;5;241m.\u001b[39mlabel_smoothing)\n",
      "File \u001b[1;32mc:\\Users\\RR\\miniconda3\\envs\\JUPYTER\\Lib\\site-packages\\torch\\nn\\functional.py:3053\u001b[0m, in \u001b[0;36mcross_entropy\u001b[1;34m(input, target, weight, size_average, ignore_index, reduce, reduction, label_smoothing)\u001b[0m\n\u001b[0;32m   3051\u001b[0m \u001b[38;5;28;01mif\u001b[39;00m size_average \u001b[38;5;129;01mis\u001b[39;00m \u001b[38;5;129;01mnot\u001b[39;00m \u001b[38;5;28;01mNone\u001b[39;00m \u001b[38;5;129;01mor\u001b[39;00m reduce \u001b[38;5;129;01mis\u001b[39;00m \u001b[38;5;129;01mnot\u001b[39;00m \u001b[38;5;28;01mNone\u001b[39;00m:\n\u001b[0;32m   3052\u001b[0m     reduction \u001b[38;5;241m=\u001b[39m _Reduction\u001b[38;5;241m.\u001b[39mlegacy_get_string(size_average, reduce)\n\u001b[1;32m-> 3053\u001b[0m \u001b[38;5;28;01mreturn\u001b[39;00m torch\u001b[38;5;241m.\u001b[39m_C\u001b[38;5;241m.\u001b[39m_nn\u001b[38;5;241m.\u001b[39mcross_entropy_loss(\u001b[38;5;28minput\u001b[39m, target, weight, _Reduction\u001b[38;5;241m.\u001b[39mget_enum(reduction), ignore_index, label_smoothing)\n",
      "\u001b[1;31mIndexError\u001b[0m: Target 2 is out of bounds."
     ]
    }
   ],
   "source": [
    "torch.manual_seed(265)\n",
    "\n",
    "model = MyMLP()\n",
    "\n",
    "lr = 0.1\n",
    "\n",
    "n_epochs = 10\n",
    "optimizer = optim.SGD(model.parameters(), lr=lr)\n",
    "loss_fn = nn.CrossEntropyLoss()\n",
    "train_loader = DataLoader(training_set, 32)\n",
    "\n",
    "train(n_epochs, optimizer, model, loss_fn, train_loader)\n",
    "train_manual_update(n_epochs, lr, model, loss_fn, train_loader)\n"
   ]
  },
  {
   "cell_type": "code",
   "execution_count": null,
   "metadata": {},
   "outputs": [],
   "source": []
  },
  {
   "cell_type": "code",
   "execution_count": null,
   "metadata": {},
   "outputs": [],
   "source": []
  }
 ],
 "metadata": {
  "kernelspec": {
   "display_name": "JUPYTER",
   "language": "python",
   "name": "python3"
  },
  "language_info": {
   "codemirror_mode": {
    "name": "ipython",
    "version": 3
   },
   "file_extension": ".py",
   "mimetype": "text/x-python",
   "name": "python",
   "nbconvert_exporter": "python",
   "pygments_lexer": "ipython3",
   "version": "3.11.5"
  }
 },
 "nbformat": 4,
 "nbformat_minor": 2
}
